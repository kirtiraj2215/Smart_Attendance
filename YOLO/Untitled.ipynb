{
 "cells": [
  {
   "cell_type": "code",
   "execution_count": null,
   "id": "9fe98d4f-f604-4613-a30d-63b0b1009ea4",
   "metadata": {},
   "outputs": [],
   "source": []
  }
 ],
 "metadata": {
  "kernelspec": {
   "display_name": "",
   "name": ""
  },
  "language_info": {
   "name": ""
  }
 },
 "nbformat": 4,
 "nbformat_minor": 5
}
